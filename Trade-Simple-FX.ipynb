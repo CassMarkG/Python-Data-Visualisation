{
 "cells": [
  {
   "cell_type": "markdown",
   "id": "5fdb5419",
   "metadata": {},
   "source": [
    "### Imports"
   ]
  },
  {
   "cell_type": "code",
   "execution_count": 12,
   "id": "b649edc8",
   "metadata": {},
   "outputs": [],
   "source": [
    "import os\n",
    "from os import walk\n",
    "\n",
    "\n",
    "#data processing, CSV file I/O(e.g pd.read_csv)\n",
    "import pandas as pd\n",
    "import matplotlib.pyplot as plt\n",
    "plt.rcParams['figure.figsize']=(12.8,7.2)\n",
    "import matplotlib.cm as cm\n"
   ]
  },
  {
   "cell_type": "code",
   "execution_count": null,
   "id": "d4a87f8a",
   "metadata": {},
   "outputs": [],
   "source": []
  },
  {
   "cell_type": "markdown",
   "id": "e6983915",
   "metadata": {},
   "source": [
    "### Constants"
   ]
  },
  {
   "cell_type": "code",
   "execution_count": 13,
   "id": "f236a218",
   "metadata": {},
   "outputs": [],
   "source": [
    "Data_File = 'TradeSimpleFX/trades.csv'"
   ]
  },
  {
   "cell_type": "code",
   "execution_count": null,
   "id": "afe7401c",
   "metadata": {},
   "outputs": [],
   "source": []
  },
  {
   "cell_type": "markdown",
   "id": "6a6b558b",
   "metadata": {},
   "source": [
    "### Import dataset from local storage"
   ]
  },
  {
   "cell_type": "code",
   "execution_count": 14,
   "id": "4522a02a",
   "metadata": {},
   "outputs": [
    {
     "data": {
      "text/html": [
       "<div>\n",
       "<style scoped>\n",
       "    .dataframe tbody tr th:only-of-type {\n",
       "        vertical-align: middle;\n",
       "    }\n",
       "\n",
       "    .dataframe tbody tr th {\n",
       "        vertical-align: top;\n",
       "    }\n",
       "\n",
       "    .dataframe thead th {\n",
       "        text-align: right;\n",
       "    }\n",
       "</style>\n",
       "<table border=\"1\" class=\"dataframe\">\n",
       "  <thead>\n",
       "    <tr style=\"text-align: right;\">\n",
       "      <th></th>\n",
       "      <th>tradingpair</th>\n",
       "      <th>longshort</th>\n",
       "      <th>risk</th>\n",
       "      <th>result</th>\n",
       "      <th>pips</th>\n",
       "      <th>secured</th>\n",
       "      <th>position</th>\n",
       "      <th>Unnamed: 7</th>\n",
       "    </tr>\n",
       "  </thead>\n",
       "  <tbody>\n",
       "    <tr>\n",
       "      <th>0</th>\n",
       "      <td>GBPJPY</td>\n",
       "      <td>Short</td>\n",
       "      <td>1%</td>\n",
       "      <td>Profit</td>\n",
       "      <td>135</td>\n",
       "      <td>1.75%</td>\n",
       "      <td>Sell Limit</td>\n",
       "      <td>NaN</td>\n",
       "    </tr>\n",
       "    <tr>\n",
       "      <th>1</th>\n",
       "      <td>AUDUSD</td>\n",
       "      <td>Long</td>\n",
       "      <td>1%</td>\n",
       "      <td>BE</td>\n",
       "      <td>0</td>\n",
       "      <td>0.00%</td>\n",
       "      <td>Buy</td>\n",
       "      <td>NaN</td>\n",
       "    </tr>\n",
       "    <tr>\n",
       "      <th>2</th>\n",
       "      <td>XAUUSD</td>\n",
       "      <td>Long</td>\n",
       "      <td>1%</td>\n",
       "      <td>Profit</td>\n",
       "      <td>70</td>\n",
       "      <td>0.90%</td>\n",
       "      <td>Buy</td>\n",
       "      <td>NaN</td>\n",
       "    </tr>\n",
       "    <tr>\n",
       "      <th>3</th>\n",
       "      <td>GBPUSD</td>\n",
       "      <td>Long</td>\n",
       "      <td>1%</td>\n",
       "      <td>Profit</td>\n",
       "      <td>30</td>\n",
       "      <td>1.50%</td>\n",
       "      <td>Buy</td>\n",
       "      <td>NaN</td>\n",
       "    </tr>\n",
       "    <tr>\n",
       "      <th>4</th>\n",
       "      <td>GBPUSD</td>\n",
       "      <td>Long</td>\n",
       "      <td>1%</td>\n",
       "      <td>Loss</td>\n",
       "      <td>-25</td>\n",
       "      <td>-0.50%</td>\n",
       "      <td>Buy</td>\n",
       "      <td>NaN</td>\n",
       "    </tr>\n",
       "    <tr>\n",
       "      <th>5</th>\n",
       "      <td>XAUUSD</td>\n",
       "      <td>Long</td>\n",
       "      <td>1%</td>\n",
       "      <td>Loss</td>\n",
       "      <td>-50</td>\n",
       "      <td>-1.00%</td>\n",
       "      <td>Buy Limit</td>\n",
       "      <td>NaN</td>\n",
       "    </tr>\n",
       "    <tr>\n",
       "      <th>6</th>\n",
       "      <td>XAUUSD</td>\n",
       "      <td>Long</td>\n",
       "      <td>1%</td>\n",
       "      <td>BE</td>\n",
       "      <td>0</td>\n",
       "      <td>0.00%</td>\n",
       "      <td>Buy</td>\n",
       "      <td>NaN</td>\n",
       "    </tr>\n",
       "    <tr>\n",
       "      <th>7</th>\n",
       "      <td>GBPJPY</td>\n",
       "      <td>Short</td>\n",
       "      <td>1%</td>\n",
       "      <td>BE</td>\n",
       "      <td>0</td>\n",
       "      <td>0.00%</td>\n",
       "      <td>Sell Limit</td>\n",
       "      <td>NaN</td>\n",
       "    </tr>\n",
       "    <tr>\n",
       "      <th>8</th>\n",
       "      <td>GER30</td>\n",
       "      <td>Long</td>\n",
       "      <td>1%</td>\n",
       "      <td>Profit</td>\n",
       "      <td>20</td>\n",
       "      <td>0.45%</td>\n",
       "      <td>Buy</td>\n",
       "      <td>NaN</td>\n",
       "    </tr>\n",
       "    <tr>\n",
       "      <th>9</th>\n",
       "      <td>AUDUSD</td>\n",
       "      <td>Long</td>\n",
       "      <td>1%</td>\n",
       "      <td>Loss</td>\n",
       "      <td>-3</td>\n",
       "      <td>0.08%</td>\n",
       "      <td>Buy Limit</td>\n",
       "      <td>NaN</td>\n",
       "    </tr>\n",
       "    <tr>\n",
       "      <th>10</th>\n",
       "      <td>GBPUSD</td>\n",
       "      <td>Long</td>\n",
       "      <td>1%</td>\n",
       "      <td>Loss</td>\n",
       "      <td>-30</td>\n",
       "      <td>-0.50%</td>\n",
       "      <td>Buy</td>\n",
       "      <td>NaN</td>\n",
       "    </tr>\n",
       "    <tr>\n",
       "      <th>11</th>\n",
       "      <td>GER30</td>\n",
       "      <td>Short</td>\n",
       "      <td>1%</td>\n",
       "      <td>Profit</td>\n",
       "      <td>12</td>\n",
       "      <td>0.50%</td>\n",
       "      <td>Sell</td>\n",
       "      <td>NaN</td>\n",
       "    </tr>\n",
       "  </tbody>\n",
       "</table>\n",
       "</div>"
      ],
      "text/plain": [
       "   tradingpair longshort risk   result  pips secured    position  Unnamed: 7\n",
       "0       GBPJPY     Short    1%  Profit   135   1.75%  Sell Limit         NaN\n",
       "1       AUDUSD      Long    1%      BE     0   0.00%        Buy          NaN\n",
       "2       XAUUSD      Long    1%  Profit    70   0.90%         Buy         NaN\n",
       "3       GBPUSD      Long    1%  Profit    30   1.50%         Buy         NaN\n",
       "4       GBPUSD      Long    1%    Loss   -25  -0.50%         Buy         NaN\n",
       "5       XAUUSD      Long    1%    Loss   -50  -1.00%   Buy Limit         NaN\n",
       "6       XAUUSD      Long    1%      BE     0   0.00%         Buy         NaN\n",
       "7       GBPJPY     Short    1%      BE     0   0.00%  Sell Limit         NaN\n",
       "8        GER30      Long    1%  Profit    20   0.45%         Buy         NaN\n",
       "9       AUDUSD      Long    1%    Loss    -3   0.08%   Buy Limit         NaN\n",
       "10      GBPUSD      Long    1%    Loss   -30  -0.50%         Buy         NaN\n",
       "11       GER30     Short    1%  Profit    12   0.50%        Sell         NaN"
      ]
     },
     "metadata": {},
     "output_type": "display_data"
    }
   ],
   "source": [
    "#load data\n",
    "data = pd.read_csv(Data_File)\n",
    "#show data\n",
    "#Dispay first five rows\n",
    "display(data)\n",
    "#display(data.head())\n",
    "#display(data.tail())"
   ]
  },
  {
   "cell_type": "code",
   "execution_count": 15,
   "id": "fa0d7ef8",
   "metadata": {},
   "outputs": [
    {
     "data": {
      "text/plain": [
       "Long     9\n",
       "Short    3\n",
       "Name: longshort, dtype: int64"
      ]
     },
     "execution_count": 15,
     "metadata": {},
     "output_type": "execute_result"
    }
   ],
   "source": [
    "data.longshort.value_counts()"
   ]
  },
  {
   "cell_type": "code",
   "execution_count": 16,
   "id": "d7755bd2",
   "metadata": {},
   "outputs": [
    {
     "data": {
      "text/plain": [
       "<bound method IndexOpsMixin.value_counts of 0     GBPJPY\n",
       "1     AUDUSD\n",
       "2     XAUUSD\n",
       "3     GBPUSD\n",
       "4     GBPUSD\n",
       "5     XAUUSD\n",
       "6     XAUUSD\n",
       "7     GBPJPY\n",
       "8      GER30\n",
       "9     AUDUSD\n",
       "10    GBPUSD\n",
       "11     GER30\n",
       "Name: tradingpair, dtype: object>"
      ]
     },
     "execution_count": 16,
     "metadata": {},
     "output_type": "execute_result"
    }
   ],
   "source": [
    "data.tradingpair.value_counts"
   ]
  },
  {
   "cell_type": "code",
   "execution_count": 17,
   "id": "a57becbc",
   "metadata": {},
   "outputs": [
    {
     "data": {
      "text/plain": [
       "Profit    5\n",
       "Loss      4\n",
       "BE        3\n",
       "Name: result, dtype: int64"
      ]
     },
     "execution_count": 17,
     "metadata": {},
     "output_type": "execute_result"
    }
   ],
   "source": [
    "data.result.value_counts()"
   ]
  },
  {
   "cell_type": "code",
   "execution_count": 18,
   "id": "95544783",
   "metadata": {},
   "outputs": [
    {
     "data": {
      "text/plain": [
       "Buy           6\n",
       "Sell Limit    2\n",
       "Buy Limit     2\n",
       "Buy           1\n",
       "Sell          1\n",
       "Name: position, dtype: int64"
      ]
     },
     "execution_count": 18,
     "metadata": {},
     "output_type": "execute_result"
    }
   ],
   "source": [
    "data.position.value_counts()"
   ]
  },
  {
   "cell_type": "code",
   "execution_count": null,
   "id": "f7d5eebb",
   "metadata": {},
   "outputs": [],
   "source": []
  },
  {
   "cell_type": "markdown",
   "id": "07389970",
   "metadata": {},
   "source": [
    "### Compare Longs and Shorts"
   ]
  },
  {
   "cell_type": "code",
   "execution_count": 19,
   "id": "8f626318",
   "metadata": {},
   "outputs": [],
   "source": [
    "amount_of_longs = data.longshort.value_counts()[\"Long\"]\n",
    "amount_of_shorts = data.longshort.value_counts()[\"Short\"]"
   ]
  },
  {
   "cell_type": "markdown",
   "id": "dd4dd190",
   "metadata": {},
   "source": [
    "### Visualize number of Longs & Shorts using donut chart"
   ]
  },
  {
   "cell_type": "code",
   "execution_count": 20,
   "id": "505b75d0",
   "metadata": {
    "scrolled": false
   },
   "outputs": [
    {
     "data": {
      "image/png": "[encoded data removed]",
      "text/plain": [
       "<Figure size 460x460 with 1 Axes>"
      ]
     },
     "metadata": {},
     "output_type": "display_data"
    },
    {
     "data": {
      "text/plain": [
       "<Figure size 921.6x518.4 with 0 Axes>"
      ]
     },
     "metadata": {},
     "output_type": "display_data"
    }
   ],
   "source": [
    "category_names = ['Longs','Shorts']\n",
    "sizes = [amount_of_longs,amount_of_shorts]\n",
    "custom_colors = ['#74b9ff','#ff7675']\n",
    "\n",
    "plt.figure(figsize=(2,2), dpi=230)\n",
    "plt.pie(sizes, labels=category_names, textprops={'fontsize': 6}, startangle=90,\n",
    "        autopct='%1.0f%%', colors=custom_colors, pctdistance=0.8)\n",
    "\n",
    "plt.title('Trade SimpleFX February Week-1',pad=10,fontsize=6)\n",
    "#draw circle\n",
    "centre_circle = plt.Circle((0, 0), radius=0.6, fc='white')\n",
    "plt.gca().add_artist(centre_circle)\n",
    "plt.figure(figsize=(12.8,7.2))\n",
    "plt.savefig('Week 1 photos/longVSshortPie')\n",
    "plt.show()"
   ]
  },
  {
   "cell_type": "code",
   "execution_count": null,
   "id": "c1b66205",
   "metadata": {},
   "outputs": [],
   "source": []
  },
  {
   "cell_type": "code",
   "execution_count": null,
   "id": "b47f3a66",
   "metadata": {},
   "outputs": [],
   "source": []
  },
  {
   "cell_type": "markdown",
   "id": "5a697b39",
   "metadata": {},
   "source": [
    "### Compare Profit,Loss & Breakeven"
   ]
  },
  {
   "cell_type": "code",
   "execution_count": 21,
   "id": "8439c686",
   "metadata": {},
   "outputs": [],
   "source": [
    "amount_of_profit = data.result.value_counts()[\"Profit\"]\n",
    "amount_of_loss = data.result.value_counts()[\"Loss\"]\n",
    "amount_of_breakeven = data.result.value_counts()[\"BE\"]"
   ]
  },
  {
   "cell_type": "code",
   "execution_count": 22,
   "id": "36f2759e",
   "metadata": {},
   "outputs": [
    {
     "data": {
      "text/plain": [
       "<Figure size 662.4x367.2 with 0 Axes>"
      ]
     },
     "execution_count": 22,
     "metadata": {},
     "output_type": "execute_result"
    },
    {
     "data": {
      "image/png": "[encoded data removed]",
      "text/plain": [
       "<Figure size 921.6x518.4 with 1 Axes>"
      ]
     },
     "metadata": {
      "needs_background": "light"
     },
     "output_type": "display_data"
    },
    {
     "data": {
      "text/plain": [
       "<Figure size 662.4x367.2 with 0 Axes>"
      ]
     },
     "metadata": {},
     "output_type": "display_data"
    }
   ],
   "source": [
    "data.plot(x=\"result\", y=[\"pips\"],kind=\"bar\")\n",
    "plt.xlabel(\"Trade Result\",labelpad=20,fontsize=12)\n",
    "plt.ylabel('Number of Pips',fontsize=12)\n",
    "plt.title('Trade SimpleFX February Week-1',pad=30,fontsize=15)\n",
    "plt.figure(figsize=(9.2,5.1))"
   ]
  },
  {
   "cell_type": "code",
   "execution_count": null,
   "id": "8ba6dc69",
   "metadata": {},
   "outputs": [],
   "source": []
  },
  {
   "cell_type": "code",
   "execution_count": null,
   "id": "67769311",
   "metadata": {},
   "outputs": [],
   "source": []
  },
  {
   "cell_type": "markdown",
   "id": "a90a66de",
   "metadata": {},
   "source": [
    "### Visualize the number of Profit,Loss & Breakeven"
   ]
  },
  {
   "cell_type": "code",
   "execution_count": 23,
   "id": "00e65a87",
   "metadata": {
    "scrolled": true
   },
   "outputs": [
    {
     "data": {
      "image/png": "[encoded data removed]",
      "text/plain": [
       "<Figure size 460x460 with 1 Axes>"
      ]
     },
     "metadata": {},
     "output_type": "display_data"
    }
   ],
   "source": [
    "category_names = ['Profit','Loss','Breakeven']\n",
    "sizes = [amount_of_profit ,amount_of_loss,amount_of_breakeven]\n",
    "custom_colors = ['#5F9DF7','#F05454','#F5EA5A']\n",
    "\n",
    "plt.figure(figsize=(2,2), dpi=230)\n",
    "plt.pie(sizes, labels=category_names, textprops={'fontsize': 6}, startangle=90,\n",
    "        autopct='%1.0f%%', colors=custom_colors, pctdistance=0.8)\n",
    "\n",
    "\n",
    "plt.title('Trade SimpleFX February Week-1',pad=10,fontsize=6)\n",
    "#draw circle\n",
    "centre_circle = plt.Circle((0, 0), radius=0.6, fc='white')\n",
    "plt.gca().add_artist(centre_circle)\n",
    "\n",
    "plt.show()"
   ]
  },
  {
   "cell_type": "markdown",
   "id": "ca71a96e",
   "metadata": {},
   "source": [
    "### Compare frequency of pairs traded"
   ]
  },
  {
   "cell_type": "markdown",
   "id": "8e7f15ab",
   "metadata": {},
   "source": [
    "### Compare frequency of pairs traded"
   ]
  },
  {
   "cell_type": "code",
   "execution_count": null,
   "id": "1ff4cdc6",
   "metadata": {},
   "outputs": [],
   "source": []
  },
  {
   "cell_type": "code",
   "execution_count": null,
   "id": "d6216ab8",
   "metadata": {},
   "outputs": [],
   "source": []
  },
  {
   "cell_type": "markdown",
   "id": "dc0eff2c",
   "metadata": {},
   "source": [
    "### Compare pair with most Longs"
   ]
  },
  {
   "cell_type": "code",
   "execution_count": 24,
   "id": "509a1877",
   "metadata": {},
   "outputs": [],
   "source": [
    "trading_pair = data.tradingpair.value_counts()\n",
    "amount_of_longs = data.longshort.value_counts()[\"Long\"]\n",
    "amount_of_shorts = data.longshort.value_counts()[\"Short\"]"
   ]
  },
  {
   "cell_type": "markdown",
   "id": "17a8c712",
   "metadata": {},
   "source": [
    "### Visualize the pair with most longs"
   ]
  },
  {
   "cell_type": "code",
   "execution_count": 25,
   "id": "cafc98f1",
   "metadata": {},
   "outputs": [
    {
     "data": {
      "text/plain": [
       "Text(0.5, 1.0, 'Trade SimpleFX February Week-1')"
      ]
     },
     "execution_count": 25,
     "metadata": {},
     "output_type": "execute_result"
    },
    {
     "data": {
      "image/png": "[encoded data removed]",
      "text/plain": [
       "<Figure size 921.6x518.4 with 1 Axes>"
      ]
     },
     "metadata": {
      "needs_background": "light"
     },
     "output_type": "display_data"
    }
   ],
   "source": [
    "#data.plot.bar()\n",
    "#category_names = ['Pair','Longs']\n",
    "#sizes = [trading_pair,amount_of_profit ]\n",
    "#custom_colors = ['#5F9DF7','#F05454']\n",
    "\n",
    "#amount_of_longs.plot(kind='bar')\n",
    "#plt.ylabel('Frequency')\n",
    "\n",
    "#plt.show()\n",
    "\n",
    "\n",
    "data.plot(x=\"tradingpair\", y=[\"pips\"],kind=\"bar\")\n",
    "plt.xlabel(\"Currency Pair\",labelpad=30,fontsize=12)\n",
    "plt.ylabel('Number of Pips',fontsize=12)\n",
    "plt.title('Trade SimpleFX February Week-1',pad=20,fontsize=15)"
   ]
  },
  {
   "cell_type": "code",
   "execution_count": null,
   "id": "46c4aa98",
   "metadata": {},
   "outputs": [],
   "source": []
  },
  {
   "cell_type": "code",
   "execution_count": null,
   "id": "8035f34f",
   "metadata": {},
   "outputs": [],
   "source": []
  },
  {
   "cell_type": "markdown",
   "id": "66278226",
   "metadata": {},
   "source": [
    "### Compare pair with most Shorts"
   ]
  },
  {
   "cell_type": "code",
   "execution_count": 26,
   "id": "3f0c744f",
   "metadata": {},
   "outputs": [
    {
     "data": {
      "text/plain": [
       "Text(0.5, 1.0, 'Trade SimpleFX February Week-1')"
      ]
     },
     "execution_count": 26,
     "metadata": {},
     "output_type": "execute_result"
    },
    {
     "data": {
      "image/png": "[encoded data removed]",
      "text/plain": [
       "<Figure size 921.6x518.4 with 1 Axes>"
      ]
     },
     "metadata": {
      "needs_background": "light"
     },
     "output_type": "display_data"
    }
   ],
   "source": [
    "data.plot(x=\"longshort\", y=[\"pips\"],kind=\"bar\",width=0.7)\n",
    "plt.xlabel(\"Position\",labelpad=20,fontsize=12)\n",
    "plt.ylabel('Number of Pips',fontsize=12)\n",
    "plt.title('Trade SimpleFX February Week-1',pad=30,fontsize=15)"
   ]
  },
  {
   "cell_type": "code",
   "execution_count": null,
   "id": "fdbb8b2b",
   "metadata": {},
   "outputs": [],
   "source": []
  },
  {
   "cell_type": "markdown",
   "id": "5c9bdfd4",
   "metadata": {},
   "source": [
    "### Compare pair with most Profit"
   ]
  },
  {
   "cell_type": "code",
   "execution_count": null,
   "id": "e69fb486",
   "metadata": {},
   "outputs": [],
   "source": []
  },
  {
   "cell_type": "code",
   "execution_count": null,
   "id": "1820d399",
   "metadata": {},
   "outputs": [],
   "source": []
  },
  {
   "cell_type": "markdown",
   "id": "5f11da61",
   "metadata": {},
   "source": [
    "### Compare pair with most Loss"
   ]
  },
  {
   "cell_type": "code",
   "execution_count": null,
   "id": "2f87c1c4",
   "metadata": {},
   "outputs": [],
   "source": []
  },
  {
   "cell_type": "code",
   "execution_count": null,
   "id": "d059ffac",
   "metadata": {},
   "outputs": [],
   "source": []
  },
  {
   "cell_type": "markdown",
   "id": "7d86f5ff",
   "metadata": {},
   "source": [
    "### Compare pair with most Pips gained"
   ]
  },
  {
   "cell_type": "code",
   "execution_count": null,
   "id": "cb75dcb2",
   "metadata": {},
   "outputs": [],
   "source": []
  },
  {
   "cell_type": "code",
   "execution_count": null,
   "id": "fd86b102",
   "metadata": {},
   "outputs": [],
   "source": []
  },
  {
   "cell_type": "markdown",
   "id": "be834b72",
   "metadata": {},
   "source": [
    "### Compare pair with most Pips lost"
   ]
  },
  {
   "cell_type": "code",
   "execution_count": null,
   "id": "efd1ca1b",
   "metadata": {},
   "outputs": [],
   "source": []
  },
  {
   "cell_type": "code",
   "execution_count": null,
   "id": "ea46861e",
   "metadata": {},
   "outputs": [],
   "source": []
  },
  {
   "cell_type": "markdown",
   "id": "c798ceab",
   "metadata": {},
   "source": [
    "### Total Pips gained and lost"
   ]
  },
  {
   "cell_type": "code",
   "execution_count": null,
   "id": "c36db143",
   "metadata": {},
   "outputs": [],
   "source": []
  },
  {
   "cell_type": "code",
   "execution_count": null,
   "id": "4c700d8f",
   "metadata": {},
   "outputs": [],
   "source": []
  },
  {
   "cell_type": "markdown",
   "id": "0472ce7b",
   "metadata": {},
   "source": [
    "### Compare pair with most R:R"
   ]
  },
  {
   "cell_type": "code",
   "execution_count": null,
   "id": "b4965420",
   "metadata": {},
   "outputs": [],
   "source": []
  },
  {
   "cell_type": "code",
   "execution_count": null,
   "id": "b5ea6c53",
   "metadata": {},
   "outputs": [],
   "source": []
  },
  {
   "cell_type": "markdown",
   "id": "668717e6",
   "metadata": {},
   "source": [
    "### Compare pair with least R:R"
   ]
  },
  {
   "cell_type": "code",
   "execution_count": null,
   "id": "9f90c00c",
   "metadata": {},
   "outputs": [],
   "source": []
  },
  {
   "cell_type": "code",
   "execution_count": null,
   "id": "5346ce46",
   "metadata": {},
   "outputs": [],
   "source": []
  },
  {
   "cell_type": "markdown",
   "id": "c2440c85",
   "metadata": {},
   "source": [
    "### Total W & L against R:R"
   ]
  },
  {
   "cell_type": "code",
   "execution_count": null,
   "id": "d2ceeba7",
   "metadata": {},
   "outputs": [],
   "source": []
  },
  {
   "cell_type": "code",
   "execution_count": null,
   "id": "c1abfdc9",
   "metadata": {},
   "outputs": [],
   "source": []
  },
  {
   "cell_type": "markdown",
   "id": "7706592f",
   "metadata": {},
   "source": [
    "### Compare trade orders"
   ]
  },
  {
   "cell_type": "code",
   "execution_count": 33,
   "id": "29bbbfa6",
   "metadata": {
    "scrolled": false
   },
   "outputs": [
    {
     "data": {
      "text/plain": [
       "Text(0.5, 1.0, 'Trade SimpleFX February Week-1')"
      ]
     },
     "execution_count": 33,
     "metadata": {},
     "output_type": "execute_result"
    },
    {
     "data": {
      "image/png": "[encoded data removed]",
      "text/plain": [
       "<Figure size 921.6x518.4 with 1 Axes>"
      ]
     },
     "metadata": {
      "needs_background": "light"
     },
     "output_type": "display_data"
    }
   ],
   "source": [
    "welele = data.plot(x=\"position\",fontsize=10, y=[\"pips\"],kind=\"bar\", width=0.7)\n",
    "plt.ylabel('Number of Pips',fontsize=12)\n",
    "plt.xlabel('Trade order',labelpad=20,fontsize=12)\n",
    "plt.title('Trade SimpleFX February Week-1',pad=30,fontsize=15)"
   ]
  },
  {
   "cell_type": "code",
   "execution_count": null,
   "id": "df855050",
   "metadata": {},
   "outputs": [],
   "source": []
  },
  {
   "cell_type": "code",
   "execution_count": null,
   "id": "ae5b3059",
   "metadata": {},
   "outputs": [],
   "source": []
  },
  {
   "cell_type": "code",
   "execution_count": null,
   "id": "16797362",
   "metadata": {},
   "outputs": [],
   "source": []
  },
  {
   "cell_type": "code",
   "execution_count": null,
   "id": "115e4cf9",
   "metadata": {},
   "outputs": [],
   "source": []
  },
  {
   "cell_type": "code",
   "execution_count": null,
   "id": "8a3f2ced",
   "metadata": {},
   "outputs": [],
   "source": []
  },
  {
   "cell_type": "code",
   "execution_count": null,
   "id": "d4507c37",
   "metadata": {},
   "outputs": [],
   "source": []
  },
  {
   "cell_type": "code",
   "execution_count": null,
   "id": "ee0ba8cf",
   "metadata": {},
   "outputs": [],
   "source": []
  },
  {
   "cell_type": "code",
   "execution_count": null,
   "id": "433a7e6c",
   "metadata": {},
   "outputs": [],
   "source": []
  },
  {
   "cell_type": "code",
   "execution_count": null,
   "id": "46883e4b",
   "metadata": {},
   "outputs": [],
   "source": []
  },
  {
   "cell_type": "code",
   "execution_count": null,
   "id": "e368c21e",
   "metadata": {},
   "outputs": [],
   "source": []
  },
  {
   "cell_type": "code",
   "execution_count": null,
   "id": "25383596",
   "metadata": {},
   "outputs": [],
   "source": []
  },
  {
   "cell_type": "code",
   "execution_count": null,
   "id": "7ee0d17a",
   "metadata": {},
   "outputs": [],
   "source": []
  },
  {
   "cell_type": "code",
   "execution_count": null,
   "id": "1b4570be",
   "metadata": {},
   "outputs": [],
   "source": []
  }
 ],
 "metadata": {
  "kernelspec": {
   "display_name": "Python 3 (ipykernel)",
   "language": "python",
   "name": "python3"
  },
  "language_info": {
   "codemirror_mode": {
    "name": "ipython",
    "version": 3
   },
   "file_extension": ".py",
   "mimetype": "text/x-python",
   "name": "python",
   "nbconvert_exporter": "python",
   "pygments_lexer": "ipython3",
   "version": "3.9.12"
  }
 },
 "nbformat": 4,
 "nbformat_minor": 5
}
